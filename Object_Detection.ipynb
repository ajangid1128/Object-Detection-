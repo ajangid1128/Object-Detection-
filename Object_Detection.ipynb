{
  "nbformat": 4,
  "nbformat_minor": 0,
  "metadata": {
    "colab": {
      "name": "Object Detection.ipynb",
      "provenance": []
    },
    "kernelspec": {
      "name": "python3",
      "display_name": "Python 3"
    },
    "language_info": {
      "name": "python"
    }
  },
  "cells": [
    {
      "cell_type": "markdown",
      "metadata": {
        "id": "JRMVL0qD60UW"
      },
      "source": [
        "###Mounting the google drive"
      ]
    },
    {
      "cell_type": "code",
      "metadata": {
        "colab": {
          "base_uri": "https://localhost:8080/"
        },
        "id": "cZUm8dPC6p_q",
        "outputId": "c9c6e564-47a5-49bc-8d7f-7f958decafd3"
      },
      "source": [
        "from google.colab import drive\n",
        "drive.mount('/content/drive')"
      ],
      "execution_count": 5,
      "outputs": [
        {
          "output_type": "stream",
          "name": "stdout",
          "text": [
            "Drive already mounted at /content/drive; to attempt to forcibly remount, call drive.mount(\"/content/drive\", force_remount=True).\n"
          ]
        }
      ]
    },
    {
      "cell_type": "markdown",
      "metadata": {
        "id": "SoSwr2137CHz"
      },
      "source": [
        "###Importing Libraries"
      ]
    },
    {
      "cell_type": "code",
      "metadata": {
        "id": "RwltTli_665W"
      },
      "source": [
        "import pandas as pd\n",
        "import os "
      ],
      "execution_count": 4,
      "outputs": []
    },
    {
      "cell_type": "markdown",
      "metadata": {
        "id": "OQGA_KHr-JbC"
      },
      "source": [
        "###Bounding Box"
      ]
    },
    {
      "cell_type": "code",
      "metadata": {
        "id": "fqJjkE_07GSe"
      },
      "source": [
        "class Bounding_Box:\n",
        "\n",
        "  def unique_identifier(path,csv_location):\n",
        "    \n",
        "    #change directory \n",
        "    os.chdir(path)\n",
        "\n",
        "    #unique_identifier for each label (Total 600 labels)\n",
        "    classes_data = pd.read_csv(csv_location)\n",
        "\n",
        "    #unique_identifier for person & car class\n",
        "    print(classes_data[classes_data[' Class'] == 'Person'])\n",
        "    print(classes_data[classes_data[' Class'] == 'Car'])\n",
        "\n",
        "    return classes_data\n",
        "\n",
        "  def annotation_data(csv_location):\n",
        "    annotation_data = pd.read_c     sv(csv_location, usecols = ['ImageID','LabelName', 'XMin','XMax', 'YMax', 'YMin'])\n",
        "    #print(annotation_data.head())\n",
        "    return annotation_data\n",
        "\n",
        "  def BB_Calculation(annotation_data,classes, class_strings):\n",
        "    \n",
        "    for i in range(len(class_strings)):\n",
        "      annotation_data.loc[annotation_data['LabelName'] == class_strings[i], 'classnumber'] = int(i)\n",
        "\n",
        "    annotation_data['center x'] = annotation_data['XMax'] + annotation_data['XMin'] / 2\n",
        "    annotation_data['center y'] = annotation_data['YMax'] + annotation_data['YMin'] / 2\n",
        "\n",
        "    annotation_data['width'] = annotation_data['XMax'] - annotation_data['XMin']\n",
        "    annotation_data['height'] = annotation_data['YMax'] - annotation_data['YMin'] \n",
        "\n",
        "    YOLO_VALUES = annotation_data.loc[:,['ImageID', 'classnumber', 'center x', 'center y', 'width', 'height']].copy()\n",
        "    \n",
        "    return YOLO_VALUES\n",
        "\n",
        "    \n",
        "\n"
      ],
      "execution_count": 65,
      "outputs": []
    },
    {
      "cell_type": "markdown",
      "metadata": {
        "id": "ZMRFQsAuGzYg"
      },
      "source": [
        "###Yolo Format"
      ]
    },
    {
      "cell_type": "code",
      "metadata": {
        "id": "9d0CEtARGubl"
      },
      "source": [
        "class yolo_format:\n",
        "\n",
        "  def annotation_file_txt(YOLO_VALUES):\n",
        "\n",
        "    image_path = '/content/drive/MyDrive/YOLOV4/Dataset_And_Annotations/Dataset/train/Person_Car'\n",
        "    os.chdir(image_path)\n",
        "\n",
        "    for current_dir, dirs, files in os.walk('.'):\n",
        "\n",
        "      for f in files:\n",
        "\n",
        "        if(f.endswith('.jpg')):\n",
        "\n",
        "          image_title = f[:-4]\n",
        "\n",
        "          YOLO_file = YOLO_VALUES.loc[YOLO_VALUES['ImageID'] == image_title]\n",
        "\n",
        "          df = YOLO_file.loc[:,['classnumber', 'center x', 'center y', 'width', 'height']].copy()\n",
        "\n",
        "          save_path = image_path + '/' + image_title + '.txt'\n",
        "\n",
        "          df.to_csv(save_path, header=False, index = False, sep = ' ')\n",
        "\n",
        "    def \n"
      ],
      "execution_count": null,
      "outputs": []
    },
    {
      "cell_type": "markdown",
      "metadata": {
        "id": "g08Jp6aYMXUH"
      },
      "source": [
        "###Train & Test Path"
      ]
    },
    {
      "cell_type": "code",
      "metadata": {
        "id": "draIs0GiMfH4"
      },
      "source": [
        "class train_test:\n",
        "\n",
        "  def path_list_train_test():\n",
        "\n",
        "    import os\n",
        "    image_path = '/content/drive/MyDrive/YOLOV4/darknet/data/Person_Car'\n",
        "    os.chdir(image_path)\n",
        "    \n",
        "    path_list = []\n",
        "    \n",
        "    for current_dir, dirs, files in os.walk('.'):\n",
        "      for f in files:\n",
        "\n",
        "        if f.endswith('.jpg'):\n",
        "\n",
        "          file_loc = image_path + '/' + f\n",
        "\n",
        "          path_list.append(file_loc + '\\n')\n",
        "\n",
        "    #Train_test_Path \n",
        "    path_list_test = path_list[:int(len(path_list) * 0.20)]\n",
        "    path_list = path_list[int(len(path_list) * 0.20):]\n",
        "\n",
        "    #Created Train & Test Path File \n",
        "    with open('./train.txt', 'w') as train:\n",
        "      for i in path_list:\n",
        "        train.write(i)\n",
        "        \n",
        "    with open('./test.txt', 'w') as test:\n",
        "      for i in path_list_test:\n",
        "        test.write(i)"
      ],
      "execution_count": 66,
      "outputs": []
    },
    {
      "cell_type": "markdown",
      "metadata": {
        "id": "h5qfRXHZNvno"
      },
      "source": [
        "### Train on COCO DataSet"
      ]
    },
    {
      "cell_type": "code",
      "metadata": {
        "id": "KwLSce0zNz0M"
      },
      "source": [
        "class traincoco:\n",
        "\n",
        "  def train_coco():\n",
        "    \n",
        "    import os\n",
        "    path = '/content/drive/MyDrive/YOLOV4'\n",
        "    os.chdir(path)\n",
        "\n",
        "    #cloning darknet\n",
        "    !git clone https://github.com/AlexeyAB/darknet\n",
        "\n",
        "    #compile \n",
        "    os.chdir('/content/drive/MyDrive/YOLOV4/darknet')\n",
        "    !make\n",
        "\n",
        "    #Downloaded weights trained on COCO Dataset\n",
        "    !wget https://github.com/AlexeyAB/darknet/releases/download/darknet_yolo_v3_optimal/yolov4.weights\n",
        "\n",
        "    #test on a image. \n",
        "    !./darknet detector test cfg/coco.data cfg/yolov4.cfg yolov4.weights data/image_000000015.jpg\n",
        "  \n",
        "  def print_image():\n",
        "    \n",
        "    import cv2 \n",
        "    import matplotlib.pyplot as plt \n",
        "    %matplotlib inline\n",
        "\n",
        "    image = cv2.imread('predictions.jpg')\n",
        "    fig= plt.gcf()\n",
        "\n",
        "    fig.set_size_inches(12,14)\n",
        "    plt.imshow(image)"
      ],
      "execution_count": null,
      "outputs": []
    },
    {
      "cell_type": "markdown",
      "metadata": {
        "id": "3c7F0ggcOyRt"
      },
      "source": [
        "### Train & Test on Custom Dataset"
      ]
    },
    {
      "cell_type": "code",
      "metadata": {
        "id": "SA0v7nxtDFdG"
      },
      "source": [
        "class customdataset:\n",
        "\n",
        "  def training():\n",
        "\n",
        "    #compile \n",
        "    import os\n",
        "    os.chdir('/content/drive/MyDrive/YOLOV4/darknet')\n",
        "    !sudo chmod +x darknet\n",
        "    !./darknet\n",
        "\n",
        "    # Train on Custom Data Person_Car\n",
        "    !./darknet detector train data/Person_Car/image_data.data cfg/yolov4_train.cfg yolov4.conv.137.1 -dont_show\n",
        "\n",
        "  def testing():\n",
        "\n",
        "    #Testing on trained weights\n",
        "    !./darknet detector train data/Person_Car/image_data.data cfg/yolov4_train.cfg /content/drive/MyDrive/YOLOV4/darknet/backup/yolov4_train_last.weights \n"
      ],
      "execution_count": null,
      "outputs": []
    }
  ]
}